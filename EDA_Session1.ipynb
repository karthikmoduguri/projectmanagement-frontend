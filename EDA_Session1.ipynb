{
  "nbformat": 4,
  "nbformat_minor": 0,
  "metadata": {
    "colab": {
      "provenance": []
    },
    "kernelspec": {
      "name": "python3",
      "display_name": "Python 3"
    },
    "language_info": {
      "name": "python"
    }
  },
  "cells": [
    {
      "cell_type": "markdown",
      "source": [
        "# DATAFRAME IN PYTHON\n",
        "# Create a dataframe from the following data\n",
        "# Define data as a dictionary\n",
        "data = {\n",
        "    'Name': ['Alice', 'Bob', 'Charlie', 'David'],\n",
        "\n",
        "    'Age': [25, 30, 35, 40],\n",
        "\n",
        "    'City': ['New York', 'Los Angeles', 'Chicago', 'Houston']\n",
        "}\n",
        "\n",
        "# Create DataFrame from the dictionary\n",
        "df = pd.DataFrame(data)\n",
        "\n",
        "# Print the contents of the age column\n",
        "print(df['Age'])"
      ],
      "metadata": {
        "id": "Q-B3fH05DFKt"
      }
    },
    {
      "cell_type": "code",
      "source": [],
      "metadata": {
        "id": "Q2YoCsaaDCGH"
      },
      "execution_count": null,
      "outputs": []
    },
    {
      "cell_type": "markdown",
      "source": [],
      "metadata": {
        "id": "HgeISjHfEBoZ"
      }
    },
    {
      "cell_type": "code",
      "source": [],
      "metadata": {
        "id": "APQ-4fGJEAgi"
      },
      "execution_count": null,
      "outputs": []
    },
    {
      "cell_type": "code",
      "execution_count": null,
      "metadata": {
        "id": "8g8sx9bYfmi7"
      },
      "outputs": [],
      "source": [
        "import pandas as pd\n",
        "\n",
        "# Load the dataset from the file\n",
        "df = pd.read_csv('/content/adult.data', header=None, names=['age', 'workclass', 'fnlwgt', 'education', 'education-num',\n",
        "                                                   'marital-status', 'occupation', 'relationship', 'race', 'sex',\n",
        "                                                   'capital-gain', 'capital-loss', 'hours-per-week', 'native-country',\n",
        "                                                   'income'])\n",
        "\n",
        "# Save as CSV\n",
        "df.to_csv('adult_income.csv', index=False)\n"
      ]
    },
    {
      "cell_type": "markdown",
      "source": [
        "https://archive.ics.uci.edu/dataset/2/adult\n"
      ],
      "metadata": {
        "id": "02LEk1udfsTN"
      }
    },
    {
      "cell_type": "markdown",
      "source": [
        "1. Understand the data features\n",
        "2. df.head() to inspect the first five rows\n",
        "3. Check the number of rows and columns to understand the dataset's size. (df.shape)\n",
        "4. Identify the data types of each column (numeric, categorical, etc.).(df.dtypes)\n"
      ],
      "metadata": {
        "id": "Lzs13yIPgu-v"
      }
    },
    {
      "cell_type": "code",
      "source": [
        "import numpy as np\n",
        "mean = np.median(df['age'])\n",
        "print(mean)"
      ],
      "metadata": {
        "colab": {
          "base_uri": "https://localhost:8080/"
        },
        "id": "wIgdsI04gth_",
        "outputId": "f364ccd9-2be0-4653-802b-f4809d4821cd"
      },
      "execution_count": null,
      "outputs": [
        {
          "output_type": "stream",
          "name": "stdout",
          "text": [
            "37.0\n"
          ]
        }
      ]
    },
    {
      "cell_type": "markdown",
      "source": [
        "2. Get an overview of numerical data, including mean, median, standard deviation, minimum, and maximum values.\n",
        "df.describe()\n",
        "df['column_name'].value_counts()"
      ],
      "metadata": {
        "id": "bAH-zm6_h0DJ"
      }
    },
    {
      "cell_type": "code",
      "source": [],
      "metadata": {
        "id": "Dldf-0qOiHHG"
      },
      "execution_count": null,
      "outputs": []
    },
    {
      "cell_type": "markdown",
      "source": [
        "3. Find the mean, median and mode using numpy and scipy.stats library\n",
        "Visualize the distribution of age"
      ],
      "metadata": {
        "id": "p-8qbExFA7wM"
      }
    },
    {
      "cell_type": "code",
      "source": [],
      "metadata": {
        "id": "p6gAtdotBKD3"
      },
      "execution_count": null,
      "outputs": []
    },
    {
      "cell_type": "markdown",
      "source": [
        "4.  Identify columns with missing values and count them.\n",
        "df.isnull().sum()\n",
        "5. Use visualization tools to see the pattern of missing data.\n",
        "import seaborn as sns\n",
        "sns.heatmap(df.isnull(), cbar=False)\n",
        "6.Find and count duplicate rows in the dataset.\n",
        "df.duplicated().sum()\n",
        "7. Check the number of unique values in each column, which can be particularly useful for categorical variables.\n",
        "df.nunique()\n",
        "\n"
      ],
      "metadata": {
        "id": "qkhOVrPXia99"
      }
    },
    {
      "cell_type": "code",
      "source": [],
      "metadata": {
        "id": "kfrAGet3izf2"
      },
      "execution_count": null,
      "outputs": []
    },
    {
      "cell_type": "markdown",
      "source": [
        "**Handling missing values.**\n",
        "1 a. Drop rows with any missing values: df_cleaned = df.dropna()\n",
        "\n",
        "1 b. Drop columns with any missing values:df_cleaned = df.dropna(axis=1)\n"
      ],
      "metadata": {
        "id": "1Y8FHlbWY4mn"
      }
    },
    {
      "cell_type": "code",
      "source": [],
      "metadata": {
        "id": "0GjPPz_2aKwK"
      },
      "execution_count": null,
      "outputs": []
    },
    {
      "cell_type": "markdown",
      "source": [
        "2. Fill Missing Values\n",
        "a. Fill with a specific value\n",
        "df_filled = df.fillna(value={'workclass': 'Unknown', 'occupation': 'Unknown'})\n",
        "b. Fill with mean,median,mode\n",
        "# Fill numerical columns with the mean\n",
        "df_filled = df.fillna(df.mean(numeric_only=True))\n",
        "\n",
        "# Fill categorical columns with the mode\n",
        "df_filled['workclass'] = df_filled['workclass'].fillna(df_filled['workclass'].mode()[0])\n",
        "\n"
      ],
      "metadata": {
        "id": "e8_X01t2aMLJ"
      }
    },
    {
      "cell_type": "code",
      "source": [],
      "metadata": {
        "id": "bMpFsrQia7ej"
      },
      "execution_count": null,
      "outputs": []
    },
    {
      "cell_type": "markdown",
      "source": [
        "3 a. Forward fill or backward fill:\n",
        "# Forward fill\n",
        "df_filled = df.fillna(method='ffill')\n",
        "\n",
        "# Backward fill\n",
        "df_filled = df.fillna(method='bfill')\n"
      ],
      "metadata": {
        "id": "yK6DB_MBa79K"
      }
    },
    {
      "cell_type": "code",
      "source": [],
      "metadata": {
        "id": "m-9pLPUtbXfC"
      },
      "execution_count": null,
      "outputs": []
    },
    {
      "cell_type": "markdown",
      "source": [
        "Verify if any values are missing"
      ],
      "metadata": {
        "id": "EjJA6XCrbayq"
      }
    },
    {
      "cell_type": "code",
      "source": [],
      "metadata": {
        "id": "EkDURxMQbepT"
      },
      "execution_count": null,
      "outputs": []
    },
    {
      "cell_type": "code",
      "source": [
        "import pandas as pd\n",
        "import numpy as np\n",
        "\n",
        "# Sample data\n",
        "data = {'value': [0,1,2,3,4,5,10, 12, 14, 15, 16, 17, 100, 120,2000,3000]}\n",
        "df = pd.DataFrame(data)\n",
        "\n",
        "# Calculate Z-scores\n",
        "df['z_score'] = (df['value'] - df['value'].mean()) / df['value'].std()\n",
        "\n",
        "# Define threshold\n",
        "threshold = 3\n",
        "\n",
        "# Identify outliers\n",
        "df['is_outlier'] = df['z_score'].abs() > threshold\n",
        "\n",
        "# Remove outliers\n",
        "cleaned_df = df[~df['is_outlier']]\n",
        "\n",
        "print(\"Original DataFrame:\")\n",
        "print(df)\n",
        "\n",
        "print(\"\\nCleaned DataFrame:\")\n",
        "print(cleaned_df)\n"
      ],
      "metadata": {
        "colab": {
          "base_uri": "https://localhost:8080/"
        },
        "id": "96dzNvj-hO61",
        "outputId": "d363e65d-ba27-4dac-9387-214439c58e60"
      },
      "execution_count": null,
      "outputs": [
        {
          "output_type": "stream",
          "name": "stdout",
          "text": [
            "Original DataFrame:\n",
            "    value   z_score  is_outlier\n",
            "0       0 -0.383739       False\n",
            "1       1 -0.382585       False\n",
            "2       2 -0.381430       False\n",
            "3       3 -0.380276       False\n",
            "4       4 -0.379122       False\n",
            "5       5 -0.377967       False\n",
            "6      10 -0.372196       False\n",
            "7      12 -0.369887       False\n",
            "8      14 -0.367579       False\n",
            "9      15 -0.366424       False\n",
            "10     16 -0.365270       False\n",
            "11     17 -0.364116       False\n",
            "12    100 -0.268307       False\n",
            "13    120 -0.245221       False\n",
            "14   2000  1.924900       False\n",
            "15   3000  3.079219        True\n",
            "\n",
            "Cleaned DataFrame:\n",
            "    value   z_score  is_outlier\n",
            "0       0 -0.383739       False\n",
            "1       1 -0.382585       False\n",
            "2       2 -0.381430       False\n",
            "3       3 -0.380276       False\n",
            "4       4 -0.379122       False\n",
            "5       5 -0.377967       False\n",
            "6      10 -0.372196       False\n",
            "7      12 -0.369887       False\n",
            "8      14 -0.367579       False\n",
            "9      15 -0.366424       False\n",
            "10     16 -0.365270       False\n",
            "11     17 -0.364116       False\n",
            "12    100 -0.268307       False\n",
            "13    120 -0.245221       False\n",
            "14   2000  1.924900       False\n"
          ]
        }
      ]
    },
    {
      "cell_type": "code",
      "source": [
        "import pandas as pd\n",
        "import seaborn as sns\n",
        "import matplotlib.pyplot as plt\n",
        "\n",
        "# Sample data\n",
        "data = {'value':  [0,0,2,2,2,1,2,3,4,5,10, 12, 14, 15, 16, 17, 0]}\n",
        "df = pd.DataFrame(data)\n",
        "\n",
        "# Create a box plot\n",
        "plt.figure(figsize=(8, 6))\n",
        "sns.boxplot(x=df['value'])\n",
        "plt.title('Box Plot for Outlier Detection')\n",
        "plt.show()\n"
      ],
      "metadata": {
        "colab": {
          "base_uri": "https://localhost:8080/",
          "height": 564
        },
        "id": "N4dGA4Ksj7j2",
        "outputId": "d2ed8dd8-5a8b-4deb-f2ab-c713ab0b3e3e"
      },
      "execution_count": null,
      "outputs": [
        {
          "output_type": "display_data",
          "data": {
            "text/plain": [
              "<Figure size 800x600 with 1 Axes>"
            ],
            "image/png": "[encoded data removed]"
          },
          "metadata": {}
        }
      ]
    }
  ]
}